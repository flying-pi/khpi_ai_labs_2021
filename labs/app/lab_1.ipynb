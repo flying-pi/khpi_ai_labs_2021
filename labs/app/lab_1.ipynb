{
 "cells": [
  {
   "cell_type": "markdown",
   "metadata": {},
   "source": [
    "### Розробити алгоритм, інтерфейс і написати програму, яка реалізує систему, призначену для розпізнавання двох об'єктів, які описані переліком ознак, а також реалізує принцип самонавчання. Програмне середовище вибрати самостійно.\n",
    "\n",
    "#### Послідовність роботи програми:\n",
    "1. Спочатку необхідно реалізувати режим початкового навчання сис- теми. Для цього користувач у діалоговому режимі вводить назву «об'єкта 1» і назву «об'єкта 2».\n",
    "2. Користувач указує ознаки, що характеризують «об'єкт 1» (кількість невідома). Система заносить їх у відповідний список.\n",
    "3. Користувач указує ознаки, що характеризують «об'єкт 2». Система також заносить їх у відповідний список.\n",
    "4. Система перевіряє, чи немає ознак, що належать одночасно двом об'єктам. Якщо такі є, вони видаляються зі своїх списків і містяться в загальний список. На цьому початкове навчання закінчено.\n",
    "5. Система переходить у режим розпізнавання невідомих об’єктів та пропонує користувачеві ввести ознаки невідомого об'єкта.\n",
    "6. Система на підставі наявної інформації намагається розпізнати невідомий об'єкт і повідомляє свій висновок користувачеві. Висновок повинен бути зроблений, навіть якщо наявної інформації недостатньо (наприклад, ознаки невідомого об'єкта ще не зустрічалися).\n",
    "7. Після того як система повідомила свій висновок, вона запитує в користувача підтвердження чи спростування свого висновку.\n",
    "8. Якщо висновок виявився правильним, самонавчання не відбувається, а списки ознак лише поповнюються (якщо зустрілися нові). Якщо висновок виявився помилковим, система повинна шляхом самонавчання відкоригувати свою базу знань («список ознак об'єкта 1», «список ознак об'єкта 2» та «загальний список») так, щоб усунути наявне протиріччя. \n",
    "9. Система запитує ознаки нового невідомого об'єкта і процес розпізнавання повторюється. "
   ]
  },
  {
   "cell_type": "code",
   "execution_count": 1,
   "metadata": {},
   "outputs": [],
   "source": [
    "import pandas as pd "
   ]
  },
  {
   "cell_type": "code",
   "execution_count": 17,
   "metadata": {},
   "outputs": [],
   "source": [
    "class Classifier:\n",
    "    features = {}\n",
    "    class1_name = ''\n",
    "    class2_name = ''\n",
    "    common = ''\n",
    "\n",
    "\n",
    "    def __init__(self, class1,class2):\n",
    "        self.common = ''.join([class1[0],class2[0]])\n",
    "        self.class1_name=class1[0]\n",
    "        self.class2_name=class2[0]\n",
    "\n",
    "        for feature in class1[1]:\n",
    "            self.features[feature] = class1[0]\n",
    "        for feature in class2[1]:\n",
    "            self.features[feature] = feature in self.features and self.common or class2[0]\n",
    "\n",
    "    def predict(self, *args):\n",
    "        score = {\n",
    "            self.class1_name:0,\n",
    "            self.class2_name:0\n",
    "        }\n",
    "        for feature in args:\n",
    "            class_name = self.features.get(feature, None)\n",
    "            if class_name and class_name in score:\n",
    "                score[class_name] = score[class_name] +1\n",
    "        predict = score[self.class1_name] > score[self.class2_name] and self.class1_name or self.class2_name\n",
    "        print(f'Prediction: {predict}')\n",
    "        answer = input(f'Type `Y` if prediction (class == {predict})is correct or any other if not correct')\n",
    "        if answer.lower() == 'y':\n",
    "            correct_class = predict\n",
    "        else:\n",
    "            correct_class = predict == self.class1_name and self.class2_name or self.class1_name\n",
    "\n",
    "        for feature in args:\n",
    "            if self.features.get(feature, None) == correct_class:\n",
    "                continue\n",
    "            self.features[feature] = feature in self.features and self.common or correct_class"
   ]
  },
  {
   "cell_type": "code",
   "execution_count": 18,
   "outputs": [],
   "source": [
    "test = Classifier(\n",
    "    ('A', ['a1','a2','c']),\n",
    "    ('B', ['b1','c'])\n",
    ")"
   ],
   "metadata": {
    "collapsed": false,
    "pycharm": {
     "name": "#%%\n"
    }
   }
  },
  {
   "cell_type": "code",
   "execution_count": 19,
   "outputs": [
    {
     "name": "stdout",
     "output_type": "stream",
     "text": [
      "Prediction: A\n"
     ]
    }
   ],
   "source": [
    "test.predict('a1')"
   ],
   "metadata": {
    "collapsed": false,
    "pycharm": {
     "name": "#%%\n"
    }
   }
  },
  {
   "cell_type": "code",
   "execution_count": 20,
   "outputs": [
    {
     "name": "stdout",
     "output_type": "stream",
     "text": [
      "Prediction: A\n"
     ]
    }
   ],
   "source": [
    "test.predict('a1','a3')"
   ],
   "metadata": {
    "collapsed": false,
    "pycharm": {
     "name": "#%%\n"
    }
   }
  },
  {
   "cell_type": "code",
   "execution_count": 21,
   "outputs": [
    {
     "name": "stdout",
     "output_type": "stream",
     "text": [
      "Prediction: B\n"
     ]
    }
   ],
   "source": [
    "test.predict('b1','b23')"
   ],
   "metadata": {
    "collapsed": false,
    "pycharm": {
     "name": "#%%\n"
    }
   }
  },
  {
   "cell_type": "code",
   "execution_count": 22,
   "outputs": [
    {
     "name": "stdout",
     "output_type": "stream",
     "text": [
      "Prediction: A\n"
     ]
    }
   ],
   "source": [
    "test.predict('a1','a3', 'b1')"
   ],
   "metadata": {
    "collapsed": false,
    "pycharm": {
     "name": "#%%\n"
    }
   }
  },
  {
   "cell_type": "code",
   "execution_count": 24,
   "outputs": [
    {
     "name": "stdout",
     "output_type": "stream",
     "text": [
      "A::\ta1\n",
      "A::\ta2\n",
      "AB::\tc\n",
      "AB::\tb1\n",
      "A::\ta3\n",
      "B::\tb23\n"
     ]
    }
   ],
   "source": [
    "for feature, class_name in test.features.items():\n",
    "    print(f'{class_name}::\\t{feature}')"
   ],
   "metadata": {
    "collapsed": false,
    "pycharm": {
     "name": "#%%\n"
    }
   }
  },
  {
   "cell_type": "code",
   "execution_count": null,
   "outputs": [],
   "source": [],
   "metadata": {
    "collapsed": false,
    "pycharm": {
     "name": "#%%\n"
    }
   }
  }
 ],
 "metadata": {
  "kernelspec": {
   "display_name": "Python 3",
   "language": "python",
   "name": "python3"
  },
  "language_info": {
   "codemirror_mode": {
    "name": "ipython",
    "version": 3
   },
   "file_extension": ".py",
   "mimetype": "text/x-python",
   "name": "python",
   "nbconvert_exporter": "python",
   "pygments_lexer": "ipython3",
   "version": "3.6.9"
  }
 },
 "nbformat": 4,
 "nbformat_minor": 4
}