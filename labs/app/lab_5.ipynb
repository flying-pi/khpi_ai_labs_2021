{
 "cells": [
  {
   "cell_type": "code",
   "execution_count": 1,
   "metadata": {
    "tags": []
   },
   "outputs": [],
   "source": [
    "import numpy as np\n",
    "import random\n",
    "\n",
    "import seaborn as sns"
   ]
  },
  {
   "cell_type": "markdown",
   "metadata": {},
   "source": [
    "# Глобальні параметри \n"
   ]
  },
  {
   "cell_type": "code",
   "execution_count": 2,
   "metadata": {
    "collapsed": false,
    "jupyter": {
     "outputs_hidden": false
    },
    "pycharm": {
     "name": "#%%\n"
    }
   },
   "outputs": [],
   "source": [
    "STUDENTS_NUM = 100\n",
    "GROUP_NUM=2\n",
    "SCORE_NUM=4\n",
    "\n",
    "MIN_SCORE=0\n",
    "MAX_SCORE=100"
   ]
  },
  {
   "cell_type": "markdown",
   "metadata": {},
   "source": [
    "# Створемо набір данних для тренування, що рівномірно розподілені "
   ]
  },
  {
   "cell_type": "code",
   "execution_count": 3,
   "metadata": {
    "collapsed": false,
    "jupyter": {
     "outputs_hidden": false
    },
    "pycharm": {
     "name": "#%%\n"
    }
   },
   "outputs": [],
   "source": [
    "samples = np.array([\n",
    "    [*[random.randint(MIN_SCORE,MAX_SCORE) for __ in range(SCORE_NUM)]]\n",
    "    for _ in range(STUDENTS_NUM)\n",
    "], dtype=float)"
   ]
  },
  {
   "cell_type": "code",
   "execution_count": 4,
   "metadata": {
    "collapsed": false,
    "jupyter": {
     "outputs_hidden": false
    },
    "pycharm": {
     "name": "#%%\n"
    }
   },
   "outputs": [
    {
     "data": {
      "text/plain": [
       "array([[91., 31., 64., 87.],\n",
       "       [33., 24., 85., 71.],\n",
       "       [52., 79., 37., 66.],\n",
       "       [84., 79., 54., 19.],\n",
       "       [39., 85., 46., 75.],\n",
       "       [93., 77., 44.,  0.],\n",
       "       [82., 67., 67., 72.],\n",
       "       [57., 98., 81., 45.],\n",
       "       [86., 41., 13., 85.],\n",
       "       [15., 84., 25., 17.]])"
      ]
     },
     "execution_count": 4,
     "metadata": {},
     "output_type": "execute_result"
    }
   ],
   "source": [
    "samples[:10]"
   ]
  },
  {
   "cell_type": "code",
   "execution_count": null,
   "metadata": {},
   "outputs": [],
   "source": [
    "# Визначемо функцію для тре"
   ]
  },
  {
   "cell_type": "code",
   "execution_count": 358,
   "metadata": {
    "collapsed": false,
    "jupyter": {
     "outputs_hidden": false
    },
    "pycharm": {
     "name": "#%%\n"
    }
   },
   "outputs": [],
   "source": [
    "def train(items, group_num=GROUP_NUM):\n",
    "    MAX_ITERATIONS = 100\n",
    "    epsilon = 0.1\n",
    "\n",
    "    features_num = items.shape[1]\n",
    "    items = np.hstack((items, np.zeros((samples.shape[0],1))))\n",
    "    centroids = items[:group_num,:-1]\n",
    "    centroid_distance = np.zeros((items.shape[0], group_num))\n",
    "    distances = []\n",
    "    for step in range(MAX_ITERATIONS):\n",
    "        for i in range(group_num):\n",
    "            centroid_distance[:,i] = ((items[:,:features_num]-centroids[i])**2).sum(1)**0.5\n",
    "        items[:,-1] = centroid_distance.argmin(1)\n",
    "        for i in range(group_num):\n",
    "            centroids[i] = items[items[:,-1]==i][:,:-1].mean(0)\n",
    "\n",
    "        distance = 0\n",
    "        for i in range(group_num):\n",
    "            distance+=(((items[items[:,-1]==i][:,:-1]-centroids[i])**2).sum(1)**0.5).sum()\n",
    "        distances.append(distance/items.shape[0])\n",
    "\n",
    "        if len(distances)>2 and abs(distances[-1] - distances[-2]) < epsilon:\n",
    "            break\n",
    "    sns.lineplot(x=range(len(distances)), y=distances)\n",
    "    return centroids\n"
   ]
  },
  {
   "cell_type": "code",
   "execution_count": 359,
   "metadata": {
    "collapsed": false,
    "jupyter": {
     "outputs_hidden": false
    },
    "pycharm": {
     "name": "#%%\n"
    }
   },
   "outputs": [
    {
     "data": {
      "text/plain": "<Figure size 432x288 with 1 Axes>",
      "image/png": "[encoded data removed]"
     },
     "metadata": {
      "needs_background": "light"
     },
     "output_type": "display_data"
    }
   ],
   "source": [
    "centroids = train(samples)\n"
   ]
  },
  {
   "cell_type": "code",
   "execution_count": 360,
   "metadata": {
    "collapsed": false,
    "jupyter": {
     "outputs_hidden": false
    },
    "pycharm": {
     "name": "#%%\n"
    }
   },
   "outputs": [
    {
     "data": {
      "text/plain": "array([[19.63718221, 20.26722149, 22.45410456, 19.50620131],\n       [80.653565  , 80.69619068, 80.26211241, 80.32702727]])"
     },
     "execution_count": 360,
     "metadata": {},
     "output_type": "execute_result"
    }
   ],
   "source": [
    "centroids"
   ]
  },
  {
   "cell_type": "code",
   "execution_count": 361,
   "metadata": {
    "collapsed": false,
    "jupyter": {
     "outputs_hidden": false
    },
    "pycharm": {
     "name": "#%%\n"
    }
   },
   "outputs": [],
   "source": [
    "def get_class(sample, clusters_centers):\n",
    "    return np.argmin(((clusters_centers - sample) ** 2).sum(1))"
   ]
  },
  {
   "cell_type": "code",
   "execution_count": 362,
   "metadata": {
    "collapsed": false,
    "jupyter": {
     "outputs_hidden": false
    },
    "pycharm": {
     "name": "#%%\n"
    }
   },
   "outputs": [
    {
     "data": {
      "text/plain": "0"
     },
     "execution_count": 362,
     "metadata": {},
     "output_type": "execute_result"
    }
   ],
   "source": [
    "get_class(samples[1],centroids)"
   ]
  },
  {
   "cell_type": "code",
   "execution_count": 363,
   "metadata": {
    "collapsed": false,
    "jupyter": {
     "outputs_hidden": false
    },
    "pycharm": {
     "name": "#%%\n"
    }
   },
   "outputs": [
    {
     "data": {
      "text/plain": "0"
     },
     "execution_count": 363,
     "metadata": {},
     "output_type": "execute_result"
    }
   ],
   "source": [
    "get_class(samples[7],centroids)"
   ]
  },
  {
   "cell_type": "code",
   "execution_count": 364,
   "metadata": {
    "collapsed": false,
    "jupyter": {
     "outputs_hidden": false
    },
    "pycharm": {
     "name": "#%%\n"
    }
   },
   "outputs": [
    {
     "data": {
      "text/plain": "0"
     },
     "execution_count": 364,
     "metadata": {},
     "output_type": "execute_result"
    }
   ],
   "source": [
    "get_class(samples[11],centroids)"
   ]
  },
  {
   "cell_type": "code",
   "execution_count": 365,
   "metadata": {
    "collapsed": false,
    "jupyter": {
     "outputs_hidden": false
    },
    "pycharm": {
     "name": "#%%\n"
    }
   },
   "outputs": [],
   "source": [
    "samples = np.array([\n",
    "    *[[random.normalvariate(20,10) for __ in range(SCORE_NUM)] for _ in range(int(STUDENTS_NUM))],\n",
    "    *[[random.normalvariate(80,10) for __ in range(SCORE_NUM)] for _ in range(int(STUDENTS_NUM))]\n",
    "    ]\n",
    "    , dtype=float)"
   ]
  },
  {
   "cell_type": "code",
   "execution_count": 366,
   "metadata": {
    "collapsed": false,
    "jupyter": {
     "outputs_hidden": false
    },
    "pycharm": {
     "name": "#%%\n"
    }
   },
   "outputs": [
    {
     "data": {
      "text/plain": "<Figure size 432x288 with 1 Axes>",
      "image/png": "[encoded data removed]"
     },
     "metadata": {
      "needs_background": "light"
     },
     "output_type": "display_data"
    }
   ],
   "source": [
    "centroids = train(samples)\n",
    "\n"
   ]
  },
  {
   "cell_type": "code",
   "execution_count": 367,
   "metadata": {
    "collapsed": false,
    "jupyter": {
     "outputs_hidden": false
    },
    "pycharm": {
     "name": "#%%\n"
    }
   },
   "outputs": [
    {
     "data": {
      "text/plain": "array([[19.88370905, 18.69016472, 18.91250153, 19.79574107],\n       [80.7405162 , 79.27756412, 79.36122319, 79.05575391]])"
     },
     "execution_count": 367,
     "metadata": {},
     "output_type": "execute_result"
    }
   ],
   "source": [
    "centroids\n"
   ]
  },
  {
   "cell_type": "code",
   "execution_count": 355,
   "metadata": {
    "collapsed": false,
    "jupyter": {
     "outputs_hidden": false
    },
    "pycharm": {
     "name": "#%%\n"
    }
   },
   "outputs": [],
   "source": []
  }
 ],
 "metadata": {
  "kernelspec": {
   "display_name": "Python 3",
   "language": "python",
   "name": "python3"
  },
  "language_info": {
   "codemirror_mode": {
    "name": "ipython",
    "version": 3
   },
   "file_extension": ".py",
   "mimetype": "text/x-python",
   "name": "python",
   "nbconvert_exporter": "python",
   "pygments_lexer": "ipython3",
   "version": "3.6.9"
  }
 },
 "nbformat": 4,
 "nbformat_minor": 4
}