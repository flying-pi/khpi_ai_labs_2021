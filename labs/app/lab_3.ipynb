{
 "cells": [
  {
   "cell_type": "markdown",
   "metadata": {},
   "source": [
    "## Гра нім"
   ]
  },
  {
   "cell_type": "code",
   "execution_count": 20,
   "metadata": {
    "tags": []
   },
   "outputs": [],
   "source": [
    "class Game:\n",
    "    def __init__(self, is_strict, heap_size, max_step):\n",
    "        self.is_strict = is_strict\n",
    "        self.heap_size = heap_size\n",
    "        self.max_step = max_step\n",
    "        self.internal_count = is_strict and heap_size or (heap_size -1)\n",
    "\n",
    "    def self_step(self):\n",
    "        answer = min(((self.internal_count-self.max_step)%2 == 0 and 2 or 1), self.max_step)\n",
    "        if self.internal_count <= self.max_step:\n",
    "            answer = self.internal_count\n",
    "        print(f\"Agent select {answer}\")\n",
    "        return answer\n",
    "\n",
    "    def user_step(self):\n",
    "        return int(input('set number of items'))\n",
    "\n",
    "    def go(self):\n",
    "        steps = {\n",
    "            True: self.self_step,\n",
    "            False: self.user_step\n",
    "        }\n",
    "        is_agent = (\n",
    "                (self.internal_count < self.max_step)\n",
    "                or ((self.internal_count-self.max_step)%2==1)\n",
    "                )\n",
    "        if self.max_step==1:\n",
    "            is_agent = self.internal_count%2==1\n",
    "        while True:\n",
    "            num = steps[is_agent]()\n",
    "            self.heap_size -= num\n",
    "            self.internal_count -= num\n",
    "            print(f\"Heap size:: {self.heap_size}\")\n",
    "            if self.heap_size == 0:\n",
    "                if (self.is_strict and is_agent) or (not self.is_strict and not is_agent):\n",
    "                    print(\"Agent win\")\n",
    "                else:\n",
    "                    print(\"User win\")\n",
    "                return\n",
    "            is_agent = not is_agent\n",
    "            print('')\n",
    "            print('Next round:')\n",
    "            print('')"
   ]
  },
  {
   "cell_type": "code",
   "execution_count": 23,
   "metadata": {},
   "outputs": [],
   "source": [
    "# Приклади партій"
   ]
  },
  {
   "cell_type": "code",
   "execution_count": 11,
   "metadata": {},
   "outputs": [
    {
     "name": "stdout",
     "output_type": "stream",
     "text": [
      "Agent select 2\n",
      "Heap size:: 8\n",
      "\n",
      "Next round:\n",
      "\n"
     ]
    },
    {
     "name": "stdin",
     "output_type": "stream",
     "text": [
      "set number of items 3\n"
     ]
    },
    {
     "name": "stdout",
     "output_type": "stream",
     "text": [
      "Heap size:: 5\n",
      "\n",
      "Next round:\n",
      "\n",
      "Agent select 1\n",
      "Heap size:: 4\n",
      "\n",
      "Next round:\n",
      "\n"
     ]
    },
    {
     "name": "stdin",
     "output_type": "stream",
     "text": [
      "set number of items 2\n"
     ]
    },
    {
     "name": "stdout",
     "output_type": "stream",
     "text": [
      "Heap size:: 2\n",
      "\n",
      "Next round:\n",
      "\n",
      "Agent select 2\n",
      "Heap size:: 0\n",
      "Agent win\n"
     ]
    }
   ],
   "source": [
    "Game(True, 10, 3).go()"
   ]
  },
  {
   "cell_type": "code",
   "execution_count": 18,
   "metadata": {},
   "outputs": [
    {
     "name": "stdin",
     "output_type": "stream",
     "text": [
      "set number of items 3\n"
     ]
    },
    {
     "name": "stdout",
     "output_type": "stream",
     "text": [
      "Heap size:: 7\n",
      "\n",
      "Next round:\n",
      "\n",
      "Agent select 1\n",
      "Heap size:: 6\n",
      "\n",
      "Next round:\n",
      "\n"
     ]
    },
    {
     "name": "stdin",
     "output_type": "stream",
     "text": [
      "set number of items 1\n"
     ]
    },
    {
     "name": "stdout",
     "output_type": "stream",
     "text": [
      "Heap size:: 5\n",
      "\n",
      "Next round:\n",
      "\n",
      "Agent select 1\n",
      "Heap size:: 4\n",
      "\n",
      "Next round:\n",
      "\n"
     ]
    },
    {
     "name": "stdin",
     "output_type": "stream",
     "text": [
      "set number of items 1\n"
     ]
    },
    {
     "name": "stdout",
     "output_type": "stream",
     "text": [
      "Heap size:: 3\n",
      "\n",
      "Next round:\n",
      "\n",
      "Agent select 2\n",
      "Heap size:: 1\n",
      "\n",
      "Next round:\n",
      "\n"
     ]
    },
    {
     "name": "stdin",
     "output_type": "stream",
     "text": [
      "set number of items 1\n"
     ]
    },
    {
     "name": "stdout",
     "output_type": "stream",
     "text": [
      "Heap size:: 0\n",
      "Agent win\n"
     ]
    }
   ],
   "source": [
    "Game(False, 10, 3).go()"
   ]
  },
  {
   "cell_type": "code",
   "execution_count": 24,
   "metadata": {},
   "outputs": [
    {
     "name": "stdout",
     "output_type": "stream",
     "text": [
      "Agent select 1\n",
      "Heap size:: 3\n",
      "\n",
      "Next round:\n",
      "\n"
     ]
    },
    {
     "name": "stdin",
     "output_type": "stream",
     "text": [
      "set number of items 1\n"
     ]
    },
    {
     "name": "stdout",
     "output_type": "stream",
     "text": [
      "Heap size:: 2\n",
      "\n",
      "Next round:\n",
      "\n",
      "Agent select 1\n",
      "Heap size:: 1\n",
      "\n",
      "Next round:\n",
      "\n"
     ]
    },
    {
     "name": "stdin",
     "output_type": "stream",
     "text": [
      "set number of items 1\n"
     ]
    },
    {
     "name": "stdout",
     "output_type": "stream",
     "text": [
      "Heap size:: 0\n",
      "Agent win\n"
     ]
    }
   ],
   "source": [
    "Game(False, 4, 1).go()"
   ]
  },
  {
   "cell_type": "code",
   "execution_count": null,
   "metadata": {},
   "outputs": [],
   "source": []
  }
 ],
 "metadata": {
  "kernelspec": {
   "display_name": "Python 3",
   "language": "python",
   "name": "python3"
  },
  "language_info": {
   "codemirror_mode": {
    "name": "ipython",
    "version": 3
   },
   "file_extension": ".py",
   "mimetype": "text/x-python",
   "name": "python",
   "nbconvert_exporter": "python",
   "pygments_lexer": "ipython3",
   "version": "3.6.9"
  }
 },
 "nbformat": 4,
 "nbformat_minor": 4
}