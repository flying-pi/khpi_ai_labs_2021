{
 "cells": [
  {
   "cell_type": "markdown",
   "metadata": {},
   "source": [
    "## Розробка виграшної стратегії для гри «хрестики-нулики» "
   ]
  },
  {
   "cell_type": "code",
   "execution_count": 3,
   "metadata": {
    "collapsed": false,
    "jupyter": {
     "outputs_hidden": false
    },
    "pycharm": {
     "name": "#%%\n"
    }
   },
   "outputs": [],
   "source": [
    "from typing import Tuple\n",
    "from IPython.display import display, HTML, Markdown\n",
    "from abc import ABC, abstractmethod\n",
    "import random"
   ]
  },
  {
   "cell_type": "code",
   "execution_count": 4,
   "metadata": {
    "collapsed": false,
    "jupyter": {
     "outputs_hidden": false
    },
    "pycharm": {
     "name": "#%%\n"
    }
   },
   "outputs": [],
   "source": [
    "CROSS = 'X'\n",
    "ZERO = '0'\n",
    "BLANK = '_'"
   ]
  },
  {
   "cell_type": "markdown",
   "metadata": {},
   "source": [
    "Базовий класс для агента в грі"
   ]
  },
  {
   "cell_type": "code",
   "execution_count": 5,
   "metadata": {
    "tags": []
   },
   "outputs": [],
   "source": [
    "class BaseAgent(ABC):\n",
    "    def __init__(self, field, is_cross):\n",
    "        self._field = field\n",
    "        self._is_cross = is_cross\n",
    "\n",
    "    @property\n",
    "    def mark(self):\n",
    "        return self._is_cross and CROSS or ZERO\n",
    "\n",
    "    def on_field_changes(self, x, y, is_cross):\n",
    "        self._filed[x][y] = is_cross and CROSS or ZERO\n",
    "\n",
    "    @abstractmethod\n",
    "    def make_step(self) -> Tuple[int, int]:\n",
    "        pass"
   ]
  },
  {
   "cell_type": "markdown",
   "metadata": {},
   "source": [
    "Функція перевірки переможця"
   ]
  },
  {
   "cell_type": "code",
   "execution_count": 6,
   "metadata": {
    "collapsed": false,
    "jupyter": {
     "outputs_hidden": false
    },
    "pycharm": {
     "name": "#%%\n"
    }
   },
   "outputs": [],
   "source": [
    "def is_cross_win(field):\n",
    "    \"\"\"\n",
    "    :return:\n",
    "        True if cross wins\n",
    "        False of zero wins\n",
    "        return None if undefined\n",
    "    \"\"\"\n",
    "    def check(line):\n",
    "        if line.count(CROSS) == 3:\n",
    "            return True\n",
    "        elif line.count(ZERO) == 3:\n",
    "            return False\n",
    "        return None\n",
    "\n",
    "    for row in field:\n",
    "        if check(''.join(row)) is not None: return check(''.join(row))\n",
    "\n",
    "    for column_index in range(3):\n",
    "        line = ''.join(f'{field[i][column_index]}' for i in range(3))\n",
    "        if check(line) is not None: return check(line)\n",
    "\n",
    "    d1 = ''.join(f'{field[i][i]}' for i in range(3))\n",
    "    if check(d1) is not None: return check(d1)\n",
    "    d2 = ''.join(f'{field[i][2-i]}' for i in range(3))\n",
    "    if check(d2) is not None: return check(d2)"
   ]
  },
  {
   "cell_type": "markdown",
   "metadata": {},
   "source": [
    "Реалізація \"круп'є\" гри"
   ]
  },
  {
   "cell_type": "code",
   "execution_count": 7,
   "metadata": {
    "collapsed": false,
    "jupyter": {
     "outputs_hidden": false
    },
    "pycharm": {
     "name": "#%%\n"
    }
   },
   "outputs": [],
   "source": [
    "class Game:\n",
    "    def __init__(self, cross_agent_class, zero_agent_class):\n",
    "        self._field = [\n",
    "            [BLANK for __ in range(3)]\n",
    "            for _ in range(3)\n",
    "        ]\n",
    "        self._cross_agent = cross_agent_class(self._field, True)\n",
    "        self._zero_agent = zero_agent_class(self._field, False)\n",
    "\n",
    "    def _display_field(self):\n",
    "        html = \"<table>\"\n",
    "        for row in self._field:\n",
    "            html += \"<tr>\"\n",
    "            for field in row:\n",
    "                html += \"<td><h4>{}</h4><td>\".format(field)\n",
    "            html += \"</tr>\"\n",
    "        html += \"</table>\"\n",
    "        display(HTML(html))\n",
    "\n",
    "    def start(self):\n",
    "        step_num = 0\n",
    "        agents = [\n",
    "            self._cross_agent,\n",
    "            self._zero_agent,\n",
    "        ]\n",
    "        while True:\n",
    "            agent = agents[step_num%2]\n",
    "            display(Markdown(f'## Хід {agent.mark == CROSS and \"Хрестика\" or \"Нулика\"}'))\n",
    "            x,y = agent.make_step()\n",
    "            self._field[x][y] = agent.mark\n",
    "            self._display_field()\n",
    "            win_state = is_cross_win(self._field)\n",
    "            if win_state is not None and win_state:\n",
    "                display(Markdown(\"# Переміг xрестик!\"))\n",
    "                break\n",
    "            elif win_state is not None and not win_state:\n",
    "                display(Markdown(\"# Переміг нулик!\"))\n",
    "                break\n",
    "            elif ''.join([''.join(row) for row in self._field]).count(BLANK) == 0:\n",
    "                display(Markdown(\"# Нічія!!!\"))\n",
    "                break\n",
    "            step_num+=1            \n",
    "            display(Markdown('***'))"
   ]
  },
  {
   "cell_type": "markdown",
   "metadata": {},
   "source": [
    "реалізація агента для забезпечення доступу \"живого\" гравця до гри"
   ]
  },
  {
   "cell_type": "code",
   "execution_count": 8,
   "metadata": {
    "collapsed": false,
    "jupyter": {
     "outputs_hidden": false
    },
    "pycharm": {
     "name": "#%%\n"
    }
   },
   "outputs": [],
   "source": [
    "class UserAgent(BaseAgent):\n",
    "    def make_step(self)-> Tuple[int, int]:\n",
    "        user_input = input('type row number and col number with space. i.e. `1 2`').split(' ')\n",
    "        return int(user_input[0]),  int(user_input[1])"
   ]
  },
  {
   "cell_type": "markdown",
   "metadata": {},
   "source": [
    "реалізація агента гри, ціль якого грати хрестиком і використовувавти макс стратегію"
   ]
  },
  {
   "cell_type": "code",
   "execution_count": 32,
   "metadata": {
    "collapsed": false,
    "jupyter": {
     "outputs_hidden": false
    },
    "pycharm": {
     "name": "#%%\n"
    }
   },
   "outputs": [],
   "source": [
    "class MaxCrossAgent(BaseAgent):\n",
    "    _depth = 5\n",
    "\n",
    "    def make_step(self)-> Tuple[int, int]:\n",
    "        def copy_field(field):\n",
    "            return [row.copy() for row in field]\n",
    "        positions_score = {i:[] for i in range(4,0,-1) }\n",
    "\n",
    "        def position_generator(field):\n",
    "            for i in range(9):\n",
    "                row = int(i/3)\n",
    "                col = int(i%3)\n",
    "                if field[row][col] == BLANK:\n",
    "                    yield row, col\n",
    "\n",
    "        def score_position(symbol, field, depth, row, col):\n",
    "            temp_field = copy_field(field)\n",
    "            temp_field[row][col] = symbol\n",
    "            win_check = is_cross_win(temp_field)\n",
    "            if win_check:\n",
    "                return 4\n",
    "            if win_check is not None and not win_check:\n",
    "                return 1\n",
    "            if depth==0:\n",
    "                return 3\n",
    "            possible_position = list(position_generator(temp_field))\n",
    "            if len(possible_position) == 0:\n",
    "                return 2\n",
    "            \n",
    "            scores =[\n",
    "                score_position(symbol==CROSS and ZERO or CROSS, temp_field, depth-1, r, c)\n",
    "                for r, c in possible_position\n",
    "            ]\n",
    "            return symbol == ZERO and max(scores) or min(scores)\n",
    "        for r, c in position_generator(self._field):\n",
    "            score = score_position(CROSS, self._field, self._depth, r, c)\n",
    "            positions_score[score].append((r, c))\n",
    "        print(positions_score)\n",
    "        for score in  range(4,0,-1):\n",
    "            if len(positions_score[score])>0:\n",
    "                result = random.choice(positions_score[score])\n",
    "                print(result)\n",
    "                return result\n",
    "\n"
   ]
  },
  {
   "cell_type": "markdown",
   "metadata": {},
   "source": [
    "### Демонстрація декількох прикладів гри. "
   ]
  },
  {
   "cell_type": "markdown",
   "metadata": {},
   "source": [
    "***\n",
    "***\n",
    "# Перемога гравця\n",
    "***\n",
    "***"
   ]
  },
  {
   "cell_type": "code",
   "execution_count": 33,
   "metadata": {
    "collapsed": false,
    "jupyter": {
     "outputs_hidden": false
    },
    "pycharm": {
     "name": "#%%\n"
    }
   },
   "outputs": [
    {
     "data": {
      "text/markdown": [
       "## Хід Хрестика"
      ],
      "text/plain": [
       "<IPython.core.display.Markdown object>"
      ]
     },
     "metadata": {},
     "output_type": "display_data"
    },
    {
     "name": "stdout",
     "output_type": "stream",
     "text": [
      "{4: [], 3: [(0, 0), (0, 1), (0, 2), (1, 0), (1, 1), (1, 2), (2, 0), (2, 1), (2, 2)], 2: [], 1: []}\n",
      "(1, 2)\n"
     ]
    },
    {
     "data": {
      "text/html": [
       "<table><tr><td><h4>_</h4><td><td><h4>_</h4><td><td><h4>_</h4><td></tr><tr><td><h4>_</h4><td><td><h4>_</h4><td><td><h4>X</h4><td></tr><tr><td><h4>_</h4><td><td><h4>_</h4><td><td><h4>_</h4><td></tr></table>"
      ],
      "text/plain": [
       "<IPython.core.display.HTML object>"
      ]
     },
     "metadata": {},
     "output_type": "display_data"
    },
    {
     "data": {
      "text/markdown": [
       "***"
      ],
      "text/plain": [
       "<IPython.core.display.Markdown object>"
      ]
     },
     "metadata": {},
     "output_type": "display_data"
    },
    {
     "data": {
      "text/markdown": [
       "## Хід Нулика"
      ],
      "text/plain": [
       "<IPython.core.display.Markdown object>"
      ]
     },
     "metadata": {},
     "output_type": "display_data"
    },
    {
     "name": "stdin",
     "output_type": "stream",
     "text": [
      "type row number and col number with space. i.e. `1 2` 0 0\n"
     ]
    },
    {
     "data": {
      "text/html": [
       "<table><tr><td><h4>0</h4><td><td><h4>_</h4><td><td><h4>_</h4><td></tr><tr><td><h4>_</h4><td><td><h4>_</h4><td><td><h4>X</h4><td></tr><tr><td><h4>_</h4><td><td><h4>_</h4><td><td><h4>_</h4><td></tr></table>"
      ],
      "text/plain": [
       "<IPython.core.display.HTML object>"
      ]
     },
     "metadata": {},
     "output_type": "display_data"
    },
    {
     "data": {
      "text/markdown": [
       "***"
      ],
      "text/plain": [
       "<IPython.core.display.Markdown object>"
      ]
     },
     "metadata": {},
     "output_type": "display_data"
    },
    {
     "data": {
      "text/markdown": [
       "## Хід Хрестика"
      ],
      "text/plain": [
       "<IPython.core.display.Markdown object>"
      ]
     },
     "metadata": {},
     "output_type": "display_data"
    },
    {
     "name": "stdout",
     "output_type": "stream",
     "text": [
      "{4: [(0, 2)], 3: [(1, 1), (2, 0)], 2: [], 1: [(0, 1), (1, 0), (2, 1), (2, 2)]}\n",
      "(0, 2)\n"
     ]
    },
    {
     "data": {
      "text/html": [
       "<table><tr><td><h4>0</h4><td><td><h4>_</h4><td><td><h4>X</h4><td></tr><tr><td><h4>_</h4><td><td><h4>_</h4><td><td><h4>X</h4><td></tr><tr><td><h4>_</h4><td><td><h4>_</h4><td><td><h4>_</h4><td></tr></table>"
      ],
      "text/plain": [
       "<IPython.core.display.HTML object>"
      ]
     },
     "metadata": {},
     "output_type": "display_data"
    },
    {
     "data": {
      "text/markdown": [
       "***"
      ],
      "text/plain": [
       "<IPython.core.display.Markdown object>"
      ]
     },
     "metadata": {},
     "output_type": "display_data"
    },
    {
     "data": {
      "text/markdown": [
       "## Хід Нулика"
      ],
      "text/plain": [
       "<IPython.core.display.Markdown object>"
      ]
     },
     "metadata": {},
     "output_type": "display_data"
    },
    {
     "name": "stdin",
     "output_type": "stream",
     "text": [
      "type row number and col number with space. i.e. `1 2` 2 2\n"
     ]
    },
    {
     "data": {
      "text/html": [
       "<table><tr><td><h4>0</h4><td><td><h4>_</h4><td><td><h4>X</h4><td></tr><tr><td><h4>_</h4><td><td><h4>_</h4><td><td><h4>X</h4><td></tr><tr><td><h4>_</h4><td><td><h4>_</h4><td><td><h4>0</h4><td></tr></table>"
      ],
      "text/plain": [
       "<IPython.core.display.HTML object>"
      ]
     },
     "metadata": {},
     "output_type": "display_data"
    },
    {
     "data": {
      "text/markdown": [
       "***"
      ],
      "text/plain": [
       "<IPython.core.display.Markdown object>"
      ]
     },
     "metadata": {},
     "output_type": "display_data"
    },
    {
     "data": {
      "text/markdown": [
       "## Хід Хрестика"
      ],
      "text/plain": [
       "<IPython.core.display.Markdown object>"
      ]
     },
     "metadata": {},
     "output_type": "display_data"
    },
    {
     "name": "stdout",
     "output_type": "stream",
     "text": [
      "{4: [(1, 1)], 3: [], 2: [], 1: [(0, 1), (1, 0), (2, 0), (2, 1)]}\n",
      "(1, 1)\n"
     ]
    },
    {
     "data": {
      "text/html": [
       "<table><tr><td><h4>0</h4><td><td><h4>_</h4><td><td><h4>X</h4><td></tr><tr><td><h4>_</h4><td><td><h4>X</h4><td><td><h4>X</h4><td></tr><tr><td><h4>_</h4><td><td><h4>_</h4><td><td><h4>0</h4><td></tr></table>"
      ],
      "text/plain": [
       "<IPython.core.display.HTML object>"
      ]
     },
     "metadata": {},
     "output_type": "display_data"
    },
    {
     "data": {
      "text/markdown": [
       "***"
      ],
      "text/plain": [
       "<IPython.core.display.Markdown object>"
      ]
     },
     "metadata": {},
     "output_type": "display_data"
    },
    {
     "data": {
      "text/markdown": [
       "## Хід Нулика"
      ],
      "text/plain": [
       "<IPython.core.display.Markdown object>"
      ]
     },
     "metadata": {},
     "output_type": "display_data"
    },
    {
     "name": "stdin",
     "output_type": "stream",
     "text": [
      "type row number and col number with space. i.e. `1 2` 2 0\n"
     ]
    },
    {
     "data": {
      "text/html": [
       "<table><tr><td><h4>0</h4><td><td><h4>_</h4><td><td><h4>X</h4><td></tr><tr><td><h4>_</h4><td><td><h4>X</h4><td><td><h4>X</h4><td></tr><tr><td><h4>0</h4><td><td><h4>_</h4><td><td><h4>0</h4><td></tr></table>"
      ],
      "text/plain": [
       "<IPython.core.display.HTML object>"
      ]
     },
     "metadata": {},
     "output_type": "display_data"
    },
    {
     "data": {
      "text/markdown": [
       "***"
      ],
      "text/plain": [
       "<IPython.core.display.Markdown object>"
      ]
     },
     "metadata": {},
     "output_type": "display_data"
    },
    {
     "data": {
      "text/markdown": [
       "## Хід Хрестика"
      ],
      "text/plain": [
       "<IPython.core.display.Markdown object>"
      ]
     },
     "metadata": {},
     "output_type": "display_data"
    },
    {
     "name": "stdout",
     "output_type": "stream",
     "text": [
      "{4: [(1, 0)], 3: [], 2: [], 1: [(0, 1), (2, 1)]}\n",
      "(1, 0)\n"
     ]
    },
    {
     "data": {
      "text/html": [
       "<table><tr><td><h4>0</h4><td><td><h4>_</h4><td><td><h4>X</h4><td></tr><tr><td><h4>X</h4><td><td><h4>X</h4><td><td><h4>X</h4><td></tr><tr><td><h4>0</h4><td><td><h4>_</h4><td><td><h4>0</h4><td></tr></table>"
      ],
      "text/plain": [
       "<IPython.core.display.HTML object>"
      ]
     },
     "metadata": {},
     "output_type": "display_data"
    },
    {
     "data": {
      "text/markdown": [
       "# Переміг xрестик!"
      ],
      "text/plain": [
       "<IPython.core.display.Markdown object>"
      ]
     },
     "metadata": {},
     "output_type": "display_data"
    }
   ],
   "source": [
    "Game(MaxCrossAgent, UserAgent).start()"
   ]
  },
  {
   "cell_type": "markdown",
   "metadata": {},
   "source": [
    "***\n",
    "***\n",
    "# Перемога агента\n",
    "***\n",
    "***"
   ]
  },
  {
   "cell_type": "code",
   "execution_count": 46,
   "metadata": {},
   "outputs": [
    {
     "data": {
      "text/markdown": [
       "## Хід Хрестика"
      ],
      "text/plain": [
       "<IPython.core.display.Markdown object>"
      ]
     },
     "metadata": {},
     "output_type": "display_data"
    },
    {
     "data": {
      "text/html": [
       "<table><tr><td><h4>_</h4><td><td><h4>_</h4><td><td><h4>_</h4><td></tr><tr><td><h4>_</h4><td><td><h4>_</h4><td><td><h4>_</h4><td></tr><tr><td><h4>_</h4><td><td><h4>X</h4><td><td><h4>_</h4><td></tr></table>"
      ],
      "text/plain": [
       "<IPython.core.display.HTML object>"
      ]
     },
     "metadata": {},
     "output_type": "display_data"
    },
    {
     "data": {
      "text/markdown": [
       "***"
      ],
      "text/plain": [
       "<IPython.core.display.Markdown object>"
      ]
     },
     "metadata": {},
     "output_type": "display_data"
    },
    {
     "data": {
      "text/markdown": [
       "## Хід Нулика"
      ],
      "text/plain": [
       "<IPython.core.display.Markdown object>"
      ]
     },
     "metadata": {},
     "output_type": "display_data"
    },
    {
     "name": "stdin",
     "output_type": "stream",
     "text": [
      "type row number and col number with space. i.e. `1 2` 1 1\n"
     ]
    },
    {
     "data": {
      "text/html": [
       "<table><tr><td><h4>_</h4><td><td><h4>_</h4><td><td><h4>_</h4><td></tr><tr><td><h4>_</h4><td><td><h4>0</h4><td><td><h4>_</h4><td></tr><tr><td><h4>_</h4><td><td><h4>X</h4><td><td><h4>_</h4><td></tr></table>"
      ],
      "text/plain": [
       "<IPython.core.display.HTML object>"
      ]
     },
     "metadata": {},
     "output_type": "display_data"
    },
    {
     "data": {
      "text/markdown": [
       "***"
      ],
      "text/plain": [
       "<IPython.core.display.Markdown object>"
      ]
     },
     "metadata": {},
     "output_type": "display_data"
    },
    {
     "data": {
      "text/markdown": [
       "## Хід Хрестика"
      ],
      "text/plain": [
       "<IPython.core.display.Markdown object>"
      ]
     },
     "metadata": {},
     "output_type": "display_data"
    },
    {
     "data": {
      "text/html": [
       "<table><tr><td><h4>X</h4><td><td><h4>_</h4><td><td><h4>_</h4><td></tr><tr><td><h4>_</h4><td><td><h4>0</h4><td><td><h4>_</h4><td></tr><tr><td><h4>_</h4><td><td><h4>X</h4><td><td><h4>_</h4><td></tr></table>"
      ],
      "text/plain": [
       "<IPython.core.display.HTML object>"
      ]
     },
     "metadata": {},
     "output_type": "display_data"
    },
    {
     "data": {
      "text/markdown": [
       "***"
      ],
      "text/plain": [
       "<IPython.core.display.Markdown object>"
      ]
     },
     "metadata": {},
     "output_type": "display_data"
    },
    {
     "data": {
      "text/markdown": [
       "## Хід Нулика"
      ],
      "text/plain": [
       "<IPython.core.display.Markdown object>"
      ]
     },
     "metadata": {},
     "output_type": "display_data"
    },
    {
     "name": "stdin",
     "output_type": "stream",
     "text": [
      "type row number and col number with space. i.e. `1 2` 0 1\n"
     ]
    },
    {
     "data": {
      "text/html": [
       "<table><tr><td><h4>X</h4><td><td><h4>0</h4><td><td><h4>_</h4><td></tr><tr><td><h4>_</h4><td><td><h4>0</h4><td><td><h4>_</h4><td></tr><tr><td><h4>_</h4><td><td><h4>X</h4><td><td><h4>_</h4><td></tr></table>"
      ],
      "text/plain": [
       "<IPython.core.display.HTML object>"
      ]
     },
     "metadata": {},
     "output_type": "display_data"
    },
    {
     "data": {
      "text/markdown": [
       "***"
      ],
      "text/plain": [
       "<IPython.core.display.Markdown object>"
      ]
     },
     "metadata": {},
     "output_type": "display_data"
    },
    {
     "data": {
      "text/markdown": [
       "## Хід Хрестика"
      ],
      "text/plain": [
       "<IPython.core.display.Markdown object>"
      ]
     },
     "metadata": {},
     "output_type": "display_data"
    },
    {
     "data": {
      "text/html": [
       "<table><tr><td><h4>X</h4><td><td><h4>0</h4><td><td><h4>_</h4><td></tr><tr><td><h4>_</h4><td><td><h4>0</h4><td><td><h4>_</h4><td></tr><tr><td><h4>X</h4><td><td><h4>X</h4><td><td><h4>_</h4><td></tr></table>"
      ],
      "text/plain": [
       "<IPython.core.display.HTML object>"
      ]
     },
     "metadata": {},
     "output_type": "display_data"
    },
    {
     "data": {
      "text/markdown": [
       "***"
      ],
      "text/plain": [
       "<IPython.core.display.Markdown object>"
      ]
     },
     "metadata": {},
     "output_type": "display_data"
    },
    {
     "data": {
      "text/markdown": [
       "## Хід Нулика"
      ],
      "text/plain": [
       "<IPython.core.display.Markdown object>"
      ]
     },
     "metadata": {},
     "output_type": "display_data"
    },
    {
     "name": "stdin",
     "output_type": "stream",
     "text": [
      "type row number and col number with space. i.e. `1 2` 1 2\n"
     ]
    },
    {
     "data": {
      "text/html": [
       "<table><tr><td><h4>X</h4><td><td><h4>0</h4><td><td><h4>_</h4><td></tr><tr><td><h4>_</h4><td><td><h4>0</h4><td><td><h4>0</h4><td></tr><tr><td><h4>X</h4><td><td><h4>X</h4><td><td><h4>_</h4><td></tr></table>"
      ],
      "text/plain": [
       "<IPython.core.display.HTML object>"
      ]
     },
     "metadata": {},
     "output_type": "display_data"
    },
    {
     "data": {
      "text/markdown": [
       "***"
      ],
      "text/plain": [
       "<IPython.core.display.Markdown object>"
      ]
     },
     "metadata": {},
     "output_type": "display_data"
    },
    {
     "data": {
      "text/markdown": [
       "## Хід Хрестика"
      ],
      "text/plain": [
       "<IPython.core.display.Markdown object>"
      ]
     },
     "metadata": {},
     "output_type": "display_data"
    },
    {
     "data": {
      "text/html": [
       "<table><tr><td><h4>X</h4><td><td><h4>0</h4><td><td><h4>_</h4><td></tr><tr><td><h4>X</h4><td><td><h4>0</h4><td><td><h4>0</h4><td></tr><tr><td><h4>X</h4><td><td><h4>X</h4><td><td><h4>_</h4><td></tr></table>"
      ],
      "text/plain": [
       "<IPython.core.display.HTML object>"
      ]
     },
     "metadata": {},
     "output_type": "display_data"
    },
    {
     "data": {
      "text/markdown": [
       "# Переміг xрестик!"
      ],
      "text/plain": [
       "<IPython.core.display.Markdown object>"
      ]
     },
     "metadata": {},
     "output_type": "display_data"
    }
   ],
   "source": [
    "Game(MaxCrossAgent, UserAgent).start()"
   ]
  },
  {
   "cell_type": "markdown",
   "metadata": {},
   "source": [
    "***\n",
    "***\n",
    "# Нічия\n",
    "***\n",
    "***"
   ]
  },
  {
   "cell_type": "code",
   "execution_count": 59,
   "metadata": {},
   "outputs": [
    {
     "data": {
      "text/markdown": [
       "## Хід Хрестика"
      ],
      "text/plain": [
       "<IPython.core.display.Markdown object>"
      ]
     },
     "metadata": {},
     "output_type": "display_data"
    },
    {
     "data": {
      "text/html": [
       "<table><tr><td><h4>_</h4><td><td><h4>X</h4><td><td><h4>_</h4><td></tr><tr><td><h4>_</h4><td><td><h4>_</h4><td><td><h4>_</h4><td></tr><tr><td><h4>_</h4><td><td><h4>_</h4><td><td><h4>_</h4><td></tr></table>"
      ],
      "text/plain": [
       "<IPython.core.display.HTML object>"
      ]
     },
     "metadata": {},
     "output_type": "display_data"
    },
    {
     "data": {
      "text/markdown": [
       "***"
      ],
      "text/plain": [
       "<IPython.core.display.Markdown object>"
      ]
     },
     "metadata": {},
     "output_type": "display_data"
    },
    {
     "data": {
      "text/markdown": [
       "## Хід Нулика"
      ],
      "text/plain": [
       "<IPython.core.display.Markdown object>"
      ]
     },
     "metadata": {},
     "output_type": "display_data"
    },
    {
     "name": "stdin",
     "output_type": "stream",
     "text": [
      "type row number and col number with space. i.e. `1 2` 1 1\n"
     ]
    },
    {
     "data": {
      "text/html": [
       "<table><tr><td><h4>_</h4><td><td><h4>X</h4><td><td><h4>_</h4><td></tr><tr><td><h4>_</h4><td><td><h4>0</h4><td><td><h4>_</h4><td></tr><tr><td><h4>_</h4><td><td><h4>_</h4><td><td><h4>_</h4><td></tr></table>"
      ],
      "text/plain": [
       "<IPython.core.display.HTML object>"
      ]
     },
     "metadata": {},
     "output_type": "display_data"
    },
    {
     "data": {
      "text/markdown": [
       "***"
      ],
      "text/plain": [
       "<IPython.core.display.Markdown object>"
      ]
     },
     "metadata": {},
     "output_type": "display_data"
    },
    {
     "data": {
      "text/markdown": [
       "## Хід Хрестика"
      ],
      "text/plain": [
       "<IPython.core.display.Markdown object>"
      ]
     },
     "metadata": {},
     "output_type": "display_data"
    },
    {
     "data": {
      "text/html": [
       "<table><tr><td><h4>_</h4><td><td><h4>X</h4><td><td><h4>X</h4><td></tr><tr><td><h4>_</h4><td><td><h4>0</h4><td><td><h4>_</h4><td></tr><tr><td><h4>_</h4><td><td><h4>_</h4><td><td><h4>_</h4><td></tr></table>"
      ],
      "text/plain": [
       "<IPython.core.display.HTML object>"
      ]
     },
     "metadata": {},
     "output_type": "display_data"
    },
    {
     "data": {
      "text/markdown": [
       "***"
      ],
      "text/plain": [
       "<IPython.core.display.Markdown object>"
      ]
     },
     "metadata": {},
     "output_type": "display_data"
    },
    {
     "data": {
      "text/markdown": [
       "## Хід Нулика"
      ],
      "text/plain": [
       "<IPython.core.display.Markdown object>"
      ]
     },
     "metadata": {},
     "output_type": "display_data"
    },
    {
     "name": "stdin",
     "output_type": "stream",
     "text": [
      "type row number and col number with space. i.e. `1 2` 0 0\n"
     ]
    },
    {
     "data": {
      "text/html": [
       "<table><tr><td><h4>0</h4><td><td><h4>X</h4><td><td><h4>X</h4><td></tr><tr><td><h4>_</h4><td><td><h4>0</h4><td><td><h4>_</h4><td></tr><tr><td><h4>_</h4><td><td><h4>_</h4><td><td><h4>_</h4><td></tr></table>"
      ],
      "text/plain": [
       "<IPython.core.display.HTML object>"
      ]
     },
     "metadata": {},
     "output_type": "display_data"
    },
    {
     "data": {
      "text/markdown": [
       "***"
      ],
      "text/plain": [
       "<IPython.core.display.Markdown object>"
      ]
     },
     "metadata": {},
     "output_type": "display_data"
    },
    {
     "data": {
      "text/markdown": [
       "## Хід Хрестика"
      ],
      "text/plain": [
       "<IPython.core.display.Markdown object>"
      ]
     },
     "metadata": {},
     "output_type": "display_data"
    },
    {
     "data": {
      "text/html": [
       "<table><tr><td><h4>0</h4><td><td><h4>X</h4><td><td><h4>X</h4><td></tr><tr><td><h4>_</h4><td><td><h4>0</h4><td><td><h4>_</h4><td></tr><tr><td><h4>_</h4><td><td><h4>_</h4><td><td><h4>X</h4><td></tr></table>"
      ],
      "text/plain": [
       "<IPython.core.display.HTML object>"
      ]
     },
     "metadata": {},
     "output_type": "display_data"
    },
    {
     "data": {
      "text/markdown": [
       "***"
      ],
      "text/plain": [
       "<IPython.core.display.Markdown object>"
      ]
     },
     "metadata": {},
     "output_type": "display_data"
    },
    {
     "data": {
      "text/markdown": [
       "## Хід Нулика"
      ],
      "text/plain": [
       "<IPython.core.display.Markdown object>"
      ]
     },
     "metadata": {},
     "output_type": "display_data"
    },
    {
     "name": "stdin",
     "output_type": "stream",
     "text": [
      "type row number and col number with space. i.e. `1 2` 1 2\n"
     ]
    },
    {
     "data": {
      "text/html": [
       "<table><tr><td><h4>0</h4><td><td><h4>X</h4><td><td><h4>X</h4><td></tr><tr><td><h4>_</h4><td><td><h4>0</h4><td><td><h4>0</h4><td></tr><tr><td><h4>_</h4><td><td><h4>_</h4><td><td><h4>X</h4><td></tr></table>"
      ],
      "text/plain": [
       "<IPython.core.display.HTML object>"
      ]
     },
     "metadata": {},
     "output_type": "display_data"
    },
    {
     "data": {
      "text/markdown": [
       "***"
      ],
      "text/plain": [
       "<IPython.core.display.Markdown object>"
      ]
     },
     "metadata": {},
     "output_type": "display_data"
    },
    {
     "data": {
      "text/markdown": [
       "## Хід Хрестика"
      ],
      "text/plain": [
       "<IPython.core.display.Markdown object>"
      ]
     },
     "metadata": {},
     "output_type": "display_data"
    },
    {
     "data": {
      "text/html": [
       "<table><tr><td><h4>0</h4><td><td><h4>X</h4><td><td><h4>X</h4><td></tr><tr><td><h4>X</h4><td><td><h4>0</h4><td><td><h4>0</h4><td></tr><tr><td><h4>_</h4><td><td><h4>_</h4><td><td><h4>X</h4><td></tr></table>"
      ],
      "text/plain": [
       "<IPython.core.display.HTML object>"
      ]
     },
     "metadata": {},
     "output_type": "display_data"
    },
    {
     "data": {
      "text/markdown": [
       "***"
      ],
      "text/plain": [
       "<IPython.core.display.Markdown object>"
      ]
     },
     "metadata": {},
     "output_type": "display_data"
    },
    {
     "data": {
      "text/markdown": [
       "## Хід Нулика"
      ],
      "text/plain": [
       "<IPython.core.display.Markdown object>"
      ]
     },
     "metadata": {},
     "output_type": "display_data"
    },
    {
     "name": "stdin",
     "output_type": "stream",
     "text": [
      "type row number and col number with space. i.e. `1 2` 2 0\n"
     ]
    },
    {
     "data": {
      "text/html": [
       "<table><tr><td><h4>0</h4><td><td><h4>X</h4><td><td><h4>X</h4><td></tr><tr><td><h4>X</h4><td><td><h4>0</h4><td><td><h4>0</h4><td></tr><tr><td><h4>0</h4><td><td><h4>_</h4><td><td><h4>X</h4><td></tr></table>"
      ],
      "text/plain": [
       "<IPython.core.display.HTML object>"
      ]
     },
     "metadata": {},
     "output_type": "display_data"
    },
    {
     "data": {
      "text/markdown": [
       "***"
      ],
      "text/plain": [
       "<IPython.core.display.Markdown object>"
      ]
     },
     "metadata": {},
     "output_type": "display_data"
    },
    {
     "data": {
      "text/markdown": [
       "## Хід Хрестика"
      ],
      "text/plain": [
       "<IPython.core.display.Markdown object>"
      ]
     },
     "metadata": {},
     "output_type": "display_data"
    },
    {
     "data": {
      "text/html": [
       "<table><tr><td><h4>0</h4><td><td><h4>X</h4><td><td><h4>X</h4><td></tr><tr><td><h4>X</h4><td><td><h4>0</h4><td><td><h4>0</h4><td></tr><tr><td><h4>0</h4><td><td><h4>X</h4><td><td><h4>X</h4><td></tr></table>"
      ],
      "text/plain": [
       "<IPython.core.display.HTML object>"
      ]
     },
     "metadata": {},
     "output_type": "display_data"
    },
    {
     "data": {
      "text/markdown": [
       "# Нічія!!!"
      ],
      "text/plain": [
       "<IPython.core.display.Markdown object>"
      ]
     },
     "metadata": {},
     "output_type": "display_data"
    }
   ],
   "source": [
    "Game(MaxCrossAgent, UserAgent).start()"
   ]
  },
  {
   "cell_type": "code",
   "execution_count": null,
   "metadata": {},
   "outputs": [],
   "source": []
  }
 ],
 "metadata": {
  "kernelspec": {
   "display_name": "Python 3",
   "language": "python",
   "name": "python3"
  },
  "language_info": {
   "codemirror_mode": {
    "name": "ipython",
    "version": 3
   },
   "file_extension": ".py",
   "mimetype": "text/x-python",
   "name": "python",
   "nbconvert_exporter": "python",
   "pygments_lexer": "ipython3",
   "version": "3.6.9"
  }
 },
 "nbformat": 4,
 "nbformat_minor": 4
}